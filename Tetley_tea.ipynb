{
 "cells": [
  {
   "cell_type": "code",
   "execution_count": 1,
   "id": "74c4c4ad",
   "metadata": {},
   "outputs": [],
   "source": [
    "# Importing necessary libraries \n",
    "from pulp import *\n",
    "import warnings\n",
    "warnings.filterwarnings('ignore')\n",
    "import pandas as pd\n",
    "import matplotlib.pyplot as plt\n",
    "import pulp\n",
    "import os"
   ]
  },
  {
   "cell_type": "code",
   "execution_count": 3,
   "id": "83709014",
   "metadata": {},
   "outputs": [
    {
     "name": "stdout",
     "output_type": "stream",
     "text": [
      "Status Optimal\n",
      "x1 = 8.0\n",
      "x2 = 5.12\n",
      "x3 = 3.3394286\n",
      "Objective Function =  3352.11429\n"
     ]
    }
   ],
   "source": [
    "x1 = pulp.LpVariable('x1', lowBound = 0, upBound = 8) #No. of hours the old facility is operated \n",
    "x2 = pulp.LpVariable('x2', lowBound = 0) #No. of hours the new facility is operated\n",
    "x3 = pulp.LpVariable('x3', lowBound = 0)  #No. of hours the single purpose facility is operated\n",
    "cost = pulp.LpProblem(\"Minimum Cost\", pulp.LpMinimize)\n",
    "#Minimizing cost\n",
    "cost += 190*x1 + 260*x2 + 150*x3, 'Objective Function'\n",
    "cost += 295*x1 + 385*x2 + 350*x3 >=5500, 'Amount of powder mix produced' # as per the ordered amount of powder mix\n",
    "cost += 260*x1 + 375*x2 >= 4000, \"Amount of tea concentrate produced\" # as per the ordered amount of tea concentrate \n",
    "cost.solve()\n",
    "print('Status',LpStatus[cost.status])\n",
    "# to check values of decision variables and minimum production cost \n",
    "for i in cost.variables(): \n",
    "    print(i.name, '=', i.varValue)\n",
    "print('Objective Function = ', value(cost.objective))"
   ]
  },
  {
   "cell_type": "markdown",
   "id": "d43d2a80",
   "metadata": {},
   "source": [
    "b) Values of the decision variables are x1(old facility) = 8 hours, x2(New facility) = 5.12 hours, x3(single purpose facility) = 3.33 hours. The minimum production cost is $ 3352.11429"
   ]
  },
  {
   "cell_type": "code",
   "execution_count": 4,
   "id": "dbc07233",
   "metadata": {},
   "outputs": [
    {
     "data": {
      "text/html": [
       "<div>\n",
       "<style scoped>\n",
       "    .dataframe tbody tr th:only-of-type {\n",
       "        vertical-align: middle;\n",
       "    }\n",
       "\n",
       "    .dataframe tbody tr th {\n",
       "        vertical-align: top;\n",
       "    }\n",
       "\n",
       "    .dataframe thead th {\n",
       "        text-align: right;\n",
       "    }\n",
       "</style>\n",
       "<table border=\"1\" class=\"dataframe\">\n",
       "  <thead>\n",
       "    <tr style=\"text-align: right;\">\n",
       "      <th></th>\n",
       "      <th>name</th>\n",
       "      <th>constraints</th>\n",
       "      <th>shadow_price</th>\n",
       "      <th>slack</th>\n",
       "    </tr>\n",
       "  </thead>\n",
       "  <tbody>\n",
       "    <tr>\n",
       "      <th>0</th>\n",
       "      <td>Amount_of_powder_mix_produced</td>\n",
       "      <td>295*x1 + 385*x2 + 350*x3 &gt;= 5500</td>\n",
       "      <td>0.428571</td>\n",
       "      <td>-0.0</td>\n",
       "    </tr>\n",
       "    <tr>\n",
       "      <th>1</th>\n",
       "      <td>Amount_of_tea_concentrate_produced</td>\n",
       "      <td>260*x1 + 375*x2 &gt;= 4000</td>\n",
       "      <td>0.253333</td>\n",
       "      <td>-0.0</td>\n",
       "    </tr>\n",
       "  </tbody>\n",
       "</table>\n",
       "</div>"
      ],
      "text/plain": [
       "                                 name                       constraints  \\\n",
       "0       Amount_of_powder_mix_produced  295*x1 + 385*x2 + 350*x3 >= 5500   \n",
       "1  Amount_of_tea_concentrate_produced           260*x1 + 375*x2 >= 4000   \n",
       "\n",
       "   shadow_price  slack  \n",
       "0      0.428571   -0.0  \n",
       "1      0.253333   -0.0  "
      ]
     },
     "execution_count": 4,
     "metadata": {},
     "output_type": "execute_result"
    }
   ],
   "source": [
    "l = list()\n",
    "for name,c in cost.constraints.items():\n",
    "    l.append([name, str(cost.constraints[name]), c.pi, c.slack])\n",
    "pd.DataFrame(l, columns = ['name', 'constraints', 'shadow_price','slack'])"
   ]
  }
 ],
 "metadata": {
  "kernelspec": {
   "display_name": "Python 3",
   "language": "python",
   "name": "python3"
  },
  "language_info": {
   "codemirror_mode": {
    "name": "ipython",
    "version": 3
   },
   "file_extension": ".py",
   "mimetype": "text/x-python",
   "name": "python",
   "nbconvert_exporter": "python",
   "pygments_lexer": "ipython3",
   "version": "3.8.8"
  }
 },
 "nbformat": 4,
 "nbformat_minor": 5
}
